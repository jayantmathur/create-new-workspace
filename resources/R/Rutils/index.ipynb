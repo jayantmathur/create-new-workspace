{
 "cells": [
  {
   "cell_type": "code",
   "execution_count": null,
   "metadata": {
    "vscode": {
     "languageId": "r"
    }
   },
   "outputs": [],
   "source": [
    "# install.packages(\"IRkernel\")\n",
    "# IRkernel::installspec()\n",
    "# min_packages <- c(\"tidyverse\", \"ggpubr\", \"devtools\", \"emmeans\")\n",
    "# install.packages(\n",
    "#     min_packages,\n",
    "#     repos = \"https://cloud.r-project.org\"\n",
    "# )\n"
   ]
  },
  {
   "cell_type": "code",
   "execution_count": null,
   "metadata": {
    "vscode": {
     "languageId": "r"
    }
   },
   "outputs": [],
   "source": [
    "#### Create new package files (if needed)\n",
    "\n",
    "# usethis::create_package(\"myrutils\")\n",
    "# setwd(\"myrutils\")\n",
    "# usethis::use_r(\"index\")\n",
    "# setwd(\"../\")"
   ]
  },
  {
   "cell_type": "markdown",
   "metadata": {},
   "source": [
    "### Document, build, and check R package"
   ]
  },
  {
   "cell_type": "code",
   "execution_count": null,
   "metadata": {
    "vscode": {
     "languageId": "r"
    }
   },
   "outputs": [],
   "source": [
    "setwd(\"myrutils\")\n",
    "devtools::document()\n",
    "devtools::check()\n",
    "devtools::build()\n",
    "setwd(\"../\")\n",
    "\n",
    "# Copy a built package from the source directory to the destination directory\n",
    "# file.copy(from = \"myrutils_0.1.0.tar.gz\", to = \"../../docs/pyr\")"
   ]
  },
  {
   "cell_type": "code",
   "execution_count": null,
   "metadata": {
    "vscode": {
     "languageId": "r"
    }
   },
   "outputs": [],
   "source": [
    "# reset_packages()"
   ]
  },
  {
   "cell_type": "markdown",
   "metadata": {},
   "source": [
    "### Load package from tar.gz file and test"
   ]
  },
  {
   "cell_type": "code",
   "execution_count": null,
   "metadata": {
    "vscode": {
     "languageId": "r"
    }
   },
   "outputs": [],
   "source": [
    "devtools::install(\"myrutils\")"
   ]
  },
  {
   "cell_type": "code",
   "execution_count": null,
   "metadata": {
    "vscode": {
     "languageId": "r"
    }
   },
   "outputs": [],
   "source": [
    "library(myrutils)"
   ]
  },
  {
   "cell_type": "code",
   "execution_count": null,
   "metadata": {
    "vscode": {
     "languageId": "r"
    }
   },
   "outputs": [],
   "source": [
    "packages <- c(\n",
    "    \"pwr\"\n",
    ")\n",
    "packages_check(packages)"
   ]
  },
  {
   "cell_type": "code",
   "execution_count": null,
   "metadata": {
    "vscode": {
     "languageId": "r"
    }
   },
   "outputs": [],
   "source": [
    "# Cohen's effect sizes small=.02, medium=.15, large=.35 (Cohen, J. (1988). Statistical power analysis for the behavioral sciences (2nd ed.). Hillsdale, NJ: Lawrence Erlbaum)\n",
    "\n",
    "# u is the number of coefficients in the model (i.e., number of independent + interaction variables + 1 for cutoff - b0) Therefore, u > 1\n",
    "\n",
    "# u = 3 because b0 + ConditionC + CovariateC (e.g., ManufactuabilityC)\n",
    "pwr.f2.test(u = 3, f2 = .35, sig.level = 0.05, power = 0.8)\n",
    "# sample size = u + roundup(v) + 1\n"
   ]
  }
 ],
 "metadata": {
  "kernelspec": {
   "display_name": "R",
   "language": "R",
   "name": "ir"
  },
  "language_info": {
   "codemirror_mode": "r",
   "file_extension": ".r",
   "mimetype": "text/x-r-source",
   "name": "R",
   "pygments_lexer": "r",
   "version": "4.4.0"
  }
 },
 "nbformat": 4,
 "nbformat_minor": 2
}
