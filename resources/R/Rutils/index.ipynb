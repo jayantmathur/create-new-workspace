{
 "cells": [
  {
   "cell_type": "code",
   "execution_count": 1,
   "metadata": {
    "vscode": {
     "languageId": "r"
    }
   },
   "outputs": [],
   "source": [
    "#### Create new package files (if needed)\n",
    "\n",
    "# usethis::create_package(\"myrutils\")\n",
    "# setwd(\"myrutils\")\n",
    "# usethis::use_r(\"index\")\n",
    "# setwd(\"../\")"
   ]
  },
  {
   "cell_type": "markdown",
   "metadata": {},
   "source": [
    "### Document, build, and check R package"
   ]
  },
  {
   "cell_type": "code",
   "execution_count": 2,
   "metadata": {
    "vscode": {
     "languageId": "r"
    }
   },
   "outputs": [
    {
     "name": "stderr",
     "output_type": "stream",
     "text": [
      "\u001b[1m\u001b[22m\u001b[36mℹ\u001b[39m Updating \u001b[34mmyrutils\u001b[39m documentation\n",
      "\u001b[1m\u001b[22mSetting `RoxygenNote` to \"7.3.2\"\n",
      "\u001b[1m\u001b[22m\u001b[36mℹ\u001b[39m Loading \u001b[34mmyrutils\u001b[39m\n"
     ]
    },
    {
     "name": "stdout",
     "output_type": "stream",
     "text": [
      "\u001b[36m══\u001b[39m \u001b[36mDocumenting\u001b[39m \u001b[36m═════════════════════════════════════════════════════════════════\u001b[39m\n"
     ]
    },
    {
     "name": "stderr",
     "output_type": "stream",
     "text": [
      "\u001b[1m\u001b[22m\u001b[36mℹ\u001b[39m Updating \u001b[34mmyrutils\u001b[39m documentation\n",
      "\u001b[1m\u001b[22m\u001b[36mℹ\u001b[39m Loading \u001b[34mmyrutils\u001b[39m\n"
     ]
    },
    {
     "name": "stdout",
     "output_type": "stream",
     "text": [
      "\n",
      "\u001b[36m══\u001b[39m \u001b[36mBuilding\u001b[39m \u001b[36m════════════════════════════════════════════════════════════════════\u001b[39m\n",
      "\u001b[90mSetting env vars:\u001b[39m\n",
      "• \u001b[90mCFLAGS    : -Wall -pedantic -fdiagnostics-color=always\u001b[39m\n",
      "• \u001b[90mCXXFLAGS  : -Wall -pedantic -fdiagnostics-color=always\u001b[39m\n",
      "• \u001b[90mCXX11FLAGS: -Wall -pedantic -fdiagnostics-color=always\u001b[39m\n",
      "• \u001b[90mCXX14FLAGS: -Wall -pedantic -fdiagnostics-color=always\u001b[39m\n",
      "• \u001b[90mCXX17FLAGS: -Wall -pedantic -fdiagnostics-color=always\u001b[39m\n",
      "• \u001b[90mCXX20FLAGS: -Wall -pedantic -fdiagnostics-color=always\u001b[39m\n",
      "\u001b[36m──\u001b[39m \u001b[36mR CMD build\u001b[39m \u001b[36m─────────────────────────────────────────────────────────────────\u001b[39m\n",
      "* checking for file 'C:\\Users\\jayan\\Documents\\create-new-workspace\\resources\\R\\Rutils\\myrutils/DESCRIPTION' ... OK\n",
      "* preparing 'myrutils':\n",
      "* checking DESCRIPTION meta-information ... OK\n",
      "* checking for LF line-endings in source and make files and shell scripts\n",
      "* checking for empty or unneeded directories\n",
      "* building 'myrutils_0.1.0.tar.gz'\n",
      "\n",
      "\u001b[36m══\u001b[39m \u001b[36mChecking\u001b[39m \u001b[36m════════════════════════════════════════════════════════════════════\u001b[39m\n",
      "\u001b[90mSetting env vars:\u001b[39m\n",
      "• \u001b[90m_R_CHECK_CRAN_INCOMING_REMOTE_               : FALSE\u001b[39m\n",
      "• \u001b[90m_R_CHECK_CRAN_INCOMING_                      : FALSE\u001b[39m\n",
      "• \u001b[90m_R_CHECK_FORCE_SUGGESTS_                     : FALSE\u001b[39m\n",
      "• \u001b[90m_R_CHECK_PACKAGES_USED_IGNORE_UNUSED_IMPORTS_: FALSE\u001b[39m\n",
      "• \u001b[90mNOT_CRAN                                     : true\u001b[39m\n",
      "\u001b[36m── R CMD check ─────────────────────────────────────────────────────────────────\u001b[39m\n",
      "* using log directory 'C:/Users/jayan/AppData/Local/Temp/RtmpoJyl38/file2b00333d61e3/myrutils.Rcheck'\n",
      "* using R version 4.4.0 (2024-04-24 ucrt)\n",
      "* using platform: x86_64-w64-mingw32\n",
      "* R was compiled by\n",
      "    gcc.exe (GCC) 13.2.0\n",
      "    GNU Fortran (GCC) 13.2.0\n",
      "* running under: Windows 11 x64 (build 26120)\n",
      "* using session charset: UTF-8\n",
      "* using options '--no-manual --as-cran'\n",
      "* checking for file 'myrutils/DESCRIPTION' ... OK\n",
      "* this is package 'myrutils' version '0.1.0'\n",
      "* package encoding: UTF-8\n",
      "* checking package namespace information ... OK\n",
      "* checking package dependencies ... OK\n",
      "* checking if this is a source package ... OK\n",
      "* checking if there is a namespace ... OK\n",
      "* checking for executable files ... OK\n",
      "* checking for hidden files and directories ... OK\n",
      "* checking for portable file names ... OK\n",
      "* checking serialization versions ... OK\n",
      "* checking whether package 'myrutils' can be installed ... OK\n",
      "* checking installed package size ... OK\n",
      "* checking package directory ... OK\n",
      "* checking for future file timestamps ... OK\n",
      "* checking DESCRIPTION meta-information ... NOTE\n",
      "License components which are templates and need '+ file LICENSE':\n",
      "  MIT\n",
      "* checking top-level files ... OK\n",
      "* checking for left-over files ... OK\n",
      "* checking index information ... OK\n",
      "* checking package subdirectories ... OK\n",
      "* checking code files for non-ASCII characters ... OK\n",
      "* checking R files for syntax errors ... OK\n",
      "* checking whether the package can be loaded ... OK\n",
      "* checking whether the package can be loaded with stated dependencies ... OK\n",
      "* checking whether the package can be unloaded cleanly ... OK\n",
      "* checking whether the namespace can be loaded with stated dependencies ... OK\n",
      "* checking whether the namespace can be unloaded cleanly ... OK\n",
      "* checking loading without being on the library search path ... OK\n",
      "* checking dependencies in R code ... OK\n",
      "* checking S3 generic/method consistency ... OK\n",
      "* checking replacement functions ... OK\n",
      "* checking foreign function calls ... OK\n",
      "* checking R code for possible problems ... NOTE\n",
      "get_contrasts: no visible binding for global variable 'estimate'\n",
      "get_contrasts: no visible binding for global variable 'p.value'\n",
      "get_contrasts: no visible binding for global variable 'df'\n",
      "get_contrasts: no visible binding for global variable 't.ratio'\n",
      "get_likert_plot: no visible binding for global variable 'Frequency'\n",
      "get_likert_plot: no visible binding for global variable 'Ratio'\n",
      "get_likert_plot: no visible binding for global variable 'Marker'\n",
      "get_likert_plot: no visible binding for global variable 'VariableY'\n",
      "get_lm_writeup: no visible global function definition for 'filter'\n",
      "save_table: no visible global function definition for 'capture.output'\n",
      "Undefined global functions or variables:\n",
      "  Frequency Marker Ratio VariableY capture.output df estimate filter\n",
      "  p.value t.ratio\n",
      "Consider adding\n",
      "  importFrom(\"stats\", \"df\", \"filter\")\n",
      "  importFrom(\"utils\", \"capture.output\")\n",
      "to your NAMESPACE file.\n",
      "* checking Rd files ... OK\n",
      "* checking Rd metadata ... OK\n",
      "* checking Rd line widths ... OK\n",
      "* checking Rd cross-references ... OK\n",
      "* checking for missing documentation entries ... OK\n",
      "* checking for code/documentation mismatches ... OK\n",
      "* checking Rd \\usage sections ... OK\n",
      "* checking Rd contents ... OK\n",
      "* checking for unstated dependencies in examples ... OK\n",
      "* checking examples ... OK\n",
      "* checking for non-standard things in the check directory ... OK\n",
      "* checking for detritus in the temp directory ... OK\n",
      "* DONE\n",
      "\n",
      "Status: 2 NOTEs\n",
      "See\n",
      "  'C:/Users/jayan/AppData/Local/Temp/RtmpoJyl38/file2b00333d61e3/myrutils.Rcheck/00check.log'\n",
      "for details.\n",
      "\n"
     ]
    },
    {
     "data": {
      "text/plain": [
       "\u001b[36m── R CMD check results ───────────────────────────────────── myrutils 0.1.0 ────\u001b[39m\n",
       "Duration: 37.7s\n",
       "\n",
       "\u001b[34m❯ checking DESCRIPTION meta-information ... NOTE\u001b[39m\n",
       "  License components which are templates and need '+ file LICENSE':\n",
       "    MIT\n",
       "\n",
       "\u001b[34m❯ checking R code for possible problems ... NOTE\u001b[39m\n",
       "  get_contrasts: no visible binding for global variable 'estimate'\n",
       "  get_contrasts: no visible binding for global variable 'p.value'\n",
       "  get_contrasts: no visible binding for global variable 'df'\n",
       "  get_contrasts: no visible binding for global variable 't.ratio'\n",
       "  get_likert_plot: no visible binding for global variable 'Frequency'\n",
       "  get_likert_plot: no visible binding for global variable 'Ratio'\n",
       "  get_likert_plot: no visible binding for global variable 'Marker'\n",
       "  get_likert_plot: no visible binding for global variable 'VariableY'\n",
       "  get_lm_writeup: no visible global function definition for 'filter'\n",
       "  save_table: no visible global function definition for 'capture.output'\n",
       "  Undefined global functions or variables:\n",
       "    Frequency Marker Ratio VariableY capture.output df estimate filter\n",
       "    p.value t.ratio\n",
       "  Consider adding\n",
       "    importFrom(\"stats\", \"df\", \"filter\")\n",
       "    importFrom(\"utils\", \"capture.output\")\n",
       "  to your NAMESPACE file.\n",
       "\n",
       "\u001b[32m0 errors ✔\u001b[39m | \u001b[32m0 warnings ✔\u001b[39m | \u001b[31m2 notes ✖\u001b[39m"
      ]
     },
     "metadata": {},
     "output_type": "display_data"
    },
    {
     "name": "stdout",
     "output_type": "stream",
     "text": [
      "\u001b[36m──\u001b[39m \u001b[36mR CMD build\u001b[39m \u001b[36m─────────────────────────────────────────────────────────────────\u001b[39m\n",
      "* checking for file 'C:\\Users\\jayan\\Documents\\create-new-workspace\\resources\\R\\Rutils\\myrutils/DESCRIPTION' ... OK\n",
      "* preparing 'myrutils':\n",
      "* checking DESCRIPTION meta-information ... OK\n",
      "* checking for LF line-endings in source and make files and shell scripts\n",
      "* checking for empty or unneeded directories\n",
      "* building 'myrutils_0.1.0.tar.gz'\n",
      "\n"
     ]
    },
    {
     "data": {
      "text/html": [
       "'C:/Users/jayan/Documents/create-new-workspace/resources/R/Rutils/myrutils_0.1.0.tar.gz'"
      ],
      "text/latex": [
       "'C:/Users/jayan/Documents/create-new-workspace/resources/R/Rutils/myrutils\\_0.1.0.tar.gz'"
      ],
      "text/markdown": [
       "'C:/Users/jayan/Documents/create-new-workspace/resources/R/Rutils/myrutils_0.1.0.tar.gz'"
      ],
      "text/plain": [
       "[1] \"C:/Users/jayan/Documents/create-new-workspace/resources/R/Rutils/myrutils_0.1.0.tar.gz\""
      ]
     },
     "metadata": {},
     "output_type": "display_data"
    }
   ],
   "source": [
    "setwd(\"myrutils\")\n",
    "devtools::document()\n",
    "devtools::check()\n",
    "devtools::build()\n",
    "setwd(\"../\")\n",
    "\n",
    "# Copy a built package from the source directory to the destination directory\n",
    "# file.copy(from = \"myrutils_0.1.0.tar.gz\", to = \"../../docs/pyr\")"
   ]
  },
  {
   "cell_type": "code",
   "execution_count": 3,
   "metadata": {
    "vscode": {
     "languageId": "r"
    }
   },
   "outputs": [],
   "source": [
    "# reset_packages()"
   ]
  },
  {
   "cell_type": "markdown",
   "metadata": {},
   "source": [
    "### Load package from tar.gz file and test"
   ]
  },
  {
   "cell_type": "code",
   "execution_count": 4,
   "metadata": {
    "vscode": {
     "languageId": "r"
    }
   },
   "outputs": [
    {
     "name": "stdout",
     "output_type": "stream",
     "text": [
      "\n",
      "\u001b[36m──\u001b[39m \u001b[36mR CMD build\u001b[39m \u001b[36m─────────────────────────────────────────────────────────────────\u001b[39m\n",
      "* checking for file 'C:\\Users\\jayan\\Documents\\create-new-workspace\\resources\\R\\Rutils\\myrutils/DESCRIPTION' ... OK\n",
      "* preparing 'myrutils':\n",
      "* checking DESCRIPTION meta-information ... OK\n",
      "* checking for LF line-endings in source and make files and shell scripts\n",
      "* checking for empty or unneeded directories\n",
      "* building 'myrutils_0.1.0.tar.gz'\n",
      "\n",
      "Running \"C:/Users/jayan/scoop/apps/r-release/current/bin/x64/Rcmd.exe\" \\\n",
      "  INSTALL \\\n",
      "  \"C:\\Users\\jayan\\AppData\\Local\\Temp\\RtmpoJyl38/myrutils_0.1.0.tar.gz\" \\\n",
      "  --install-tests \n",
      "* installing to library 'C:/Users/jayan/scoop/apps/r-release/4.4.0/library'\n",
      "* installing *source* package 'myrutils' ...\n",
      "** using staged installation\n",
      "** R\n",
      "** byte-compile and prepare package for lazy loading\n",
      "** help\n",
      "*** installing help indices\n",
      "** building package indices\n",
      "** testing if installed package can be loaded from temporary location\n",
      "** testing if installed package can be loaded from final location\n",
      "** testing if installed package keeps a record of temporary installation path\n",
      "* DONE (myrutils)\n"
     ]
    }
   ],
   "source": [
    "devtools::install(\"myrutils\")"
   ]
  },
  {
   "cell_type": "code",
   "execution_count": 5,
   "metadata": {
    "vscode": {
     "languageId": "r"
    }
   },
   "outputs": [],
   "source": [
    "library(myrutils)"
   ]
  },
  {
   "cell_type": "code",
   "execution_count": 6,
   "metadata": {
    "vscode": {
     "languageId": "r"
    }
   },
   "outputs": [
    {
     "name": "stderr",
     "output_type": "stream",
     "text": [
      "Loading required package: pwr\n",
      "\n",
      "Warning message in library(package, lib.loc = lib.loc, character.only = TRUE, logical.return = TRUE, :\n",
      "\"there is no package called 'pwr'\"\n"
     ]
    },
    {
     "name": "stdout",
     "output_type": "stream",
     "text": [
      "package 'pwr' successfully unpacked and MD5 sums checked\n",
      "\n",
      "The downloaded binary packages are in\n",
      "\tC:\\Users\\jayan\\AppData\\Local\\Temp\\RtmpoJyl38\\downloaded_packages\n"
     ]
    },
    {
     "name": "stderr",
     "output_type": "stream",
     "text": [
      "Warning message:\n",
      "\"package 'pwr' was built under R version 4.4.1\"\n"
     ]
    },
    {
     "data": {
      "text/html": [
       "<ol>\n",
       "\t<li><style>\n",
       ".list-inline {list-style: none; margin:0; padding: 0}\n",
       ".list-inline>li {display: inline-block}\n",
       ".list-inline>li:not(:last-child)::after {content: \"\\00b7\"; padding: 0 .5ex}\n",
       "</style>\n",
       "<ol class=list-inline><li>'pwr'</li><li>'myrutils'</li><li>'stats'</li><li>'graphics'</li><li>'grDevices'</li><li>'utils'</li><li>'datasets'</li><li>'methods'</li><li>'base'</li></ol>\n",
       "</li>\n",
       "</ol>\n"
      ],
      "text/latex": [
       "\\begin{enumerate}\n",
       "\\item \\begin{enumerate*}\n",
       "\\item 'pwr'\n",
       "\\item 'myrutils'\n",
       "\\item 'stats'\n",
       "\\item 'graphics'\n",
       "\\item 'grDevices'\n",
       "\\item 'utils'\n",
       "\\item 'datasets'\n",
       "\\item 'methods'\n",
       "\\item 'base'\n",
       "\\end{enumerate*}\n",
       "\n",
       "\\end{enumerate}\n"
      ],
      "text/markdown": [
       "1. 1. 'pwr'\n",
       "2. 'myrutils'\n",
       "3. 'stats'\n",
       "4. 'graphics'\n",
       "5. 'grDevices'\n",
       "6. 'utils'\n",
       "7. 'datasets'\n",
       "8. 'methods'\n",
       "9. 'base'\n",
       "\n",
       "\n",
       "\n",
       "\n",
       "\n"
      ],
      "text/plain": [
       "[[1]]\n",
       "[1] \"pwr\"       \"myrutils\"  \"stats\"     \"graphics\"  \"grDevices\" \"utils\"    \n",
       "[7] \"datasets\"  \"methods\"   \"base\"     \n"
      ]
     },
     "metadata": {},
     "output_type": "display_data"
    }
   ],
   "source": [
    "packages <- c(\n",
    "    \"pwr\"\n",
    ")\n",
    "packages_check(packages)"
   ]
  },
  {
   "cell_type": "code",
   "execution_count": 7,
   "metadata": {
    "vscode": {
     "languageId": "r"
    }
   },
   "outputs": [
    {
     "data": {
      "text/plain": [
       "\n",
       "     Multiple regression power calculation \n",
       "\n",
       "              u = 3\n",
       "              v = 31.3129\n",
       "             f2 = 0.35\n",
       "      sig.level = 0.05\n",
       "          power = 0.8\n"
      ]
     },
     "metadata": {},
     "output_type": "display_data"
    }
   ],
   "source": [
    "# Cohen's effect sizes small=.02, medium=.15, large=.35 (Cohen, J. (1988). Statistical power analysis for the behavioral sciences (2nd ed.). Hillsdale, NJ: Lawrence Erlbaum)\n",
    "\n",
    "# u is the number of coefficients in the model (i.e., number of independent + interaction variables + 1 for cutoff - b0) Therefore, u > 1\n",
    "\n",
    "# u = 3 because b0 + ConditionC + CovariateC (e.g., ManufactuabilityC)\n",
    "pwr.f2.test(u = 3, f2 = .35, sig.level = 0.05, power = 0.8)\n",
    "# sample size = u + roundup(v) + 1\n"
   ]
  }
 ],
 "metadata": {
  "kernelspec": {
   "display_name": "R",
   "language": "R",
   "name": "ir"
  },
  "language_info": {
   "codemirror_mode": "r",
   "file_extension": ".r",
   "mimetype": "text/x-r-source",
   "name": "R",
   "pygments_lexer": "r",
   "version": "4.4.0"
  }
 },
 "nbformat": 4,
 "nbformat_minor": 2
}
