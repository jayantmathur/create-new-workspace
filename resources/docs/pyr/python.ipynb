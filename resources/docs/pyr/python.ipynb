{
 "cells": [
  {
   "cell_type": "markdown",
   "metadata": {},
   "source": [
    "## Create a `.venv` first!\n",
    "Select Kernel and create python environment"
   ]
  },
  {
   "cell_type": "code",
   "execution_count": null,
   "metadata": {},
   "outputs": [],
   "source": [
    "import importlib\n",
    "\n",
    "def packageCheck(packages):\n",
    "    for package in packages:\n",
    "        try:\n",
    "            importlib.import_module(package)\n",
    "            \n",
    "        except ImportError:\n",
    "            print(f\"{package} is not installed. Installing {package}...\")\n",
    "            %pip install {package}\n",
    "            print(f\"{package} has been installed.\")\n",
    "        finally:\n",
    "            globals()[package] = importlib.import_module(package)\n"
   ]
  },
  {
   "cell_type": "code",
   "execution_count": null,
   "metadata": {},
   "outputs": [],
   "source": [
    "# %pip list\n",
    "packages = [\n",
    "    \"numpy\",\n",
    "    \"pandas\",\n",
    "    \"matplotlib\",\n",
    "]\n",
    "packageCheck(packages)"
   ]
  },
  {
   "cell_type": "code",
   "execution_count": 1,
   "metadata": {},
   "outputs": [],
   "source": [
    "# packageCheck(['requests'])\n",
    "\n",
    "# surveyId = \"SV_1TVIVI6Z5I8ULD8\"\n",
    "# apiToken = \"vkFTYb1RyLuGCZU5315AKbbJn3FTVoLHookc7axn\"\n",
    "# dataCenter = \"ca1\"\n",
    "# url=\"https://{0}.qualtrics.com/API/v3/distributions/\".format(dataCenter)\n",
    "\n",
    "# querystring = {\"surveyId\":surveyId}\n",
    "\n",
    "# headers = {\n",
    "#     \"Content-Type\": \"application/json\",\n",
    "#     \"X-API-TOKEN\": apiToken\n",
    "# }\n",
    "\n",
    "# response = requests.request(\"GET\", url, headers=headers, params=querystring)\n",
    "\n",
    "# def deletedist(id):\n",
    "#     url=\"https://{0}.qualtrics.com/API/v3/distributions/{1}\".format(dataCenter,id)\n",
    "#     response = requests.request(\"DELETE\", url, headers=headers)\n",
    "# print(\"deleting distributions\")\n",
    "# counter = 0\n",
    "# for element in response.json()[\"result\"][\"elements\"]:\n",
    "#     deletedist(element[\"id\"])\n",
    "#     counter=counter+1\n",
    "#     print(counter, end=\"\\r\")\n",
    "\n",
    "# print(\"done...\"+\"deleted \"+str(counter))"
   ]
  }
 ],
 "metadata": {
  "kernelspec": {
   "display_name": "Python 3.10.5 64-bit (system)",
   "language": "python",
   "name": "python3"
  },
  "language_info": {
   "codemirror_mode": {
    "name": "ipython",
    "version": 3
   },
   "file_extension": ".py",
   "mimetype": "text/x-python",
   "name": "python",
   "nbconvert_exporter": "python",
   "pygments_lexer": "ipython3",
   "version": "3.10.5"
  },
  "orig_nbformat": 4,
  "vscode": {
   "interpreter": {
    "hash": "c56527485b7c9dd36c8c8808345694ae9d0a642c0f00dfb6356f9a65494ceb50"
   }
  }
 },
 "nbformat": 4,
 "nbformat_minor": 2
}
