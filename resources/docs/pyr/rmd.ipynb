{
 "cells": [
  {
   "cell_type": "code",
   "execution_count": null,
   "metadata": {
    "vscode": {
     "languageId": "r"
    }
   },
   "outputs": [],
   "source": [
    "source(\"globals.R\")"
   ]
  },
  {
   "cell_type": "code",
   "execution_count": null,
   "metadata": {
    "vscode": {
     "languageId": "r"
    }
   },
   "outputs": [],
   "source": [
    "# Cohen's effect sizes small=.02, medium=.15, large=.35 (Cohen, J. (1988). Statistical power analysis for the behavioral sciences (2nd ed.). Hillsdale, NJ: Lawrence Erlbaum)\n",
    "\n",
    "# u is the number of coefficients in the model (i.e., number of independent + interaction variables + 1 for cutoff - b0) Therefore, u > 1\n",
    "\n",
    "# u = 3 because b0 + ConditionC + CovariateC (e.g., ManufactuabilityC)\n",
    "pwr.f2.test(u = 3, f2 = .35, sig.level = 0.05, power = 0.8)\n",
    "# sample size = u + roundup(v) + 1\n",
    "\n",
    "plot_theme <- plot_theme + theme(\n",
    "    text = element_text(size=16),\n",
    ")"
   ]
  },
  {
   "cell_type": "code",
   "execution_count": null,
   "metadata": {
    "vscode": {
     "languageId": "r"
    }
   },
   "outputs": [],
   "source": [
    "# disable warnings\n",
    "options(warn = -1)\n"
   ]
  },
  {
   "cell_type": "code",
   "execution_count": null,
   "metadata": {
    "vscode": {
     "languageId": "r"
    }
   },
   "outputs": [],
   "source": [
    "# create color palettes\n",
    "\n",
    "# https://stackoverflow.com/questions/57153428/r-plot-color-combinations-that-are-colorblind-accessible\n",
    "\n",
    "# opalette = conditions_palette.colors(palette = \"Okabe-Ito\")\n",
    "conditions_palette <- hcl.colors(palette = \"plasma\", n = 3)\n"
   ]
  },
  {
   "cell_type": "code",
   "execution_count": null,
   "metadata": {
    "vscode": {
     "languageId": "r"
    }
   },
   "outputs": [],
   "source": [
    "# data <- readxl::read_excel(\"data.xlsx\")\n",
    "data <- read.csv(\"data.csv\")\n",
    "data <- data.clean(data)\n",
    "# fix(data)\n"
   ]
  },
  {
   "cell_type": "code",
   "execution_count": null,
   "metadata": {
    "vscode": {
     "languageId": "r"
    }
   },
   "outputs": [],
   "source": [
    "save.image(\".RData\")"
   ]
  }
 ],
 "metadata": {
  "kernelspec": {
   "display_name": "R",
   "language": "R",
   "name": "ir"
  },
  "language_info": {
   "codemirror_mode": "r",
   "file_extension": ".r",
   "mimetype": "text/x-r-source",
   "name": "R",
   "pygments_lexer": "r",
   "version": "4.3.2"
  },
  "orig_nbformat": 4,
  "vscode": {
   "interpreter": {
    "hash": "6ec8154b8c1c2b241ed870aa047132560311b0bad7f3226c5dc3dee38c47b094"
   }
  }
 },
 "nbformat": 4,
 "nbformat_minor": 2
}
